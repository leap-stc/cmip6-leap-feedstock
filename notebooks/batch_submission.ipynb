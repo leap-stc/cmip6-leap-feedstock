{
 "cells": [
  {
   "cell_type": "code",
   "execution_count": 8,
   "id": "4fc252cf-4ad7-4719-b153-23bae7519c53",
   "metadata": {},
   "outputs": [
    {
     "name": "stdout",
     "output_type": "stream",
     "text": [
      "\n",
      "                  __    __    __    __\n",
      "                 /  \\  /  \\  /  \\  /  \\\n",
      "                /    \\/    \\/    \\/    \\\n",
      "███████████████/  /██/  /██/  /██/  /████████████████████████\n",
      "              /  / \\   / \\   / \\   / \\  \\____\n",
      "             /  /   \\_/   \\_/   \\_/   \\    o \\__,\n",
      "            / _/                       \\_____/  `\n",
      "            |/\n",
      "        ███╗   ███╗ █████╗ ███╗   ███╗██████╗  █████╗\n",
      "        ████╗ ████║██╔══██╗████╗ ████║██╔══██╗██╔══██╗\n",
      "        ██╔████╔██║███████║██╔████╔██║██████╔╝███████║\n",
      "        ██║╚██╔╝██║██╔══██║██║╚██╔╝██║██╔══██╗██╔══██║\n",
      "        ██║ ╚═╝ ██║██║  ██║██║ ╚═╝ ██║██████╔╝██║  ██║\n",
      "        ╚═╝     ╚═╝╚═╝  ╚═╝╚═╝     ╚═╝╚═════╝ ╚═╝  ╚═╝\n",
      "\n",
      "        mamba (1.1.0) supported by @QuantStack\n",
      "\n",
      "        GitHub:  https://github.com/mamba-org/mamba\n",
      "        Twitter: https://twitter.com/QuantStack\n",
      "\n",
      "█████████████████████████████████████████████████████████████\n",
      "\n",
      "\n",
      "Looking for: ['apache-beam']\n",
      "\n",
      "conda-forge/linux-64                                        Using cache\n",
      "conda-forge/noarch                                          Using cache\n",
      "\n",
      "Pinned packages:\n",
      "  - python 3.10.*\n",
      "\n",
      "\n",
      "Could not solve for environment specs\n",
      "Encountered problems while solving:\n",
      "  - package libarrow-10.0.1-h2c3b227_8_cpu requires openssl >=3.0.7,<4.0a0, but none of the providers can be installed\n",
      "\n",
      "The environment can't be solved, aborting the operation\n",
      "\n"
     ]
    }
   ],
   "source": [
    "# # install particular dependencies\n",
    "# !pip install git+https://github.com/pangeo-forge/pangeo-forge-runner.git #pangeo-forge-runner from main"
   ]
  },
  {
   "cell_type": "code",
   "execution_count": 2,
   "id": "cba53ba6-2ac4-4c21-9dfe-142ffebcc387",
   "metadata": {},
   "outputs": [],
   "source": [
    "# export keys\n",
    "!export GOOGLE_APPLICATION_CREDENTIALS=/home/jovyan/KEYS/leap-pangeo-dataflow_service_account.json"
   ]
  },
  {
   "cell_type": "code",
   "execution_count": 3,
   "id": "bf9ad6d8-9891-4795-afa1-4f713ef1db05",
   "metadata": {},
   "outputs": [
    {
     "name": "stdout",
     "output_type": "stream",
     "text": [
      "/bin/bash: line 1: pangeo-forge-runner: command not found\n"
     ]
    }
   ],
   "source": [
    "!pangeo-forge-runner --help"
   ]
  },
  {
   "cell_type": "code",
   "execution_count": 2,
   "id": "7d07a2a2-9385-41df-8aa8-872dc0acea7f",
   "metadata": {},
   "outputs": [],
   "source": [
    "# input args\n",
    "repo = \"https://github.com/jbusecke/cmip6-leap-feedstock.git\"\n",
    "ref = \"beam-dataflow-testing\"\n",
    "f_name = \"config.json\"\n",
    "target_bucket = \"gs://leap-persistent/jbusecke/data/CMIP6/dataflow_test/target\""
   ]
  },
  {
   "cell_type": "code",
   "execution_count": 3,
   "id": "54b557b1-8dc2-464e-979b-2b456839d235",
   "metadata": {},
   "outputs": [],
   "source": [
    "def shorten_id(iid):\n",
    "    iid_stripped = \"-\".join(iid.split(\".\")[3:])\n",
    "    assert len(iid_stripped) < 66\n",
    "    return iid_stripped"
   ]
  },
  {
   "cell_type": "code",
   "execution_count": 4,
   "id": "92d7ecbf-d525-47db-a9f5-e1bdee76540e",
   "metadata": {},
   "outputs": [
    {
     "name": "stdout",
     "output_type": "stream",
     "text": [
      "\n",
      "Submitting job...\n"
     ]
    },
    {
     "ename": "FileNotFoundError",
     "evalue": "[Errno 2] No such file or directory: 'pangeo-forge-runner'",
     "output_type": "error",
     "traceback": [
      "\u001b[0;31m---------------------------------------------------------------------------\u001b[0m",
      "\u001b[0;31mFileNotFoundError\u001b[0m                         Traceback (most recent call last)",
      "Cell \u001b[0;32mIn[4], line 33\u001b[0m\n\u001b[1;32m     12\u001b[0m cmd \u001b[38;5;241m=\u001b[39m [\n\u001b[1;32m     13\u001b[0m     \u001b[38;5;124m\"\u001b[39m\u001b[38;5;124mpangeo-forge-runner\u001b[39m\u001b[38;5;124m\"\u001b[39m,\n\u001b[1;32m     14\u001b[0m     \u001b[38;5;124m\"\u001b[39m\u001b[38;5;124mbake\u001b[39m\u001b[38;5;124m\"\u001b[39m,\n\u001b[0;32m   (...)\u001b[0m\n\u001b[1;32m     29\u001b[0m     machine_type,\n\u001b[1;32m     30\u001b[0m ]\n\u001b[1;32m     32\u001b[0m \u001b[38;5;28mprint\u001b[39m(\u001b[38;5;124m\"\u001b[39m\u001b[38;5;130;01m\\n\u001b[39;00m\u001b[38;5;124mSubmitting job...\u001b[39m\u001b[38;5;124m\"\u001b[39m)\n\u001b[0;32m---> 33\u001b[0m submit_proc \u001b[38;5;241m=\u001b[39m \u001b[43msubprocess\u001b[49m\u001b[38;5;241;43m.\u001b[39;49m\u001b[43mrun\u001b[49m\u001b[43m(\u001b[49m\u001b[43mcmd\u001b[49m\u001b[43m,\u001b[49m\u001b[43m \u001b[49m\u001b[43mcapture_output\u001b[49m\u001b[38;5;241;43m=\u001b[39;49m\u001b[38;5;28;43;01mTrue\u001b[39;49;00m\u001b[43m)\u001b[49m\n\u001b[1;32m     34\u001b[0m \u001b[38;5;28;01massert\u001b[39;00m submit_proc\u001b[38;5;241m.\u001b[39mreturncode \u001b[38;5;241m==\u001b[39m \u001b[38;5;241m0\u001b[39m\n\u001b[1;32m     35\u001b[0m lastline \u001b[38;5;241m=\u001b[39m json\u001b[38;5;241m.\u001b[39mloads(submit_proc\u001b[38;5;241m.\u001b[39mstdout\u001b[38;5;241m.\u001b[39mdecode()\u001b[38;5;241m.\u001b[39msplitlines()[\u001b[38;5;241m-\u001b[39m\u001b[38;5;241m1\u001b[39m])\n",
      "File \u001b[0;32m/srv/conda/envs/notebook/lib/python3.10/subprocess.py:503\u001b[0m, in \u001b[0;36mrun\u001b[0;34m(input, capture_output, timeout, check, *popenargs, **kwargs)\u001b[0m\n\u001b[1;32m    500\u001b[0m     kwargs[\u001b[38;5;124m'\u001b[39m\u001b[38;5;124mstdout\u001b[39m\u001b[38;5;124m'\u001b[39m] \u001b[38;5;241m=\u001b[39m PIPE\n\u001b[1;32m    501\u001b[0m     kwargs[\u001b[38;5;124m'\u001b[39m\u001b[38;5;124mstderr\u001b[39m\u001b[38;5;124m'\u001b[39m] \u001b[38;5;241m=\u001b[39m PIPE\n\u001b[0;32m--> 503\u001b[0m \u001b[38;5;28;01mwith\u001b[39;00m \u001b[43mPopen\u001b[49m\u001b[43m(\u001b[49m\u001b[38;5;241;43m*\u001b[39;49m\u001b[43mpopenargs\u001b[49m\u001b[43m,\u001b[49m\u001b[43m \u001b[49m\u001b[38;5;241;43m*\u001b[39;49m\u001b[38;5;241;43m*\u001b[39;49m\u001b[43mkwargs\u001b[49m\u001b[43m)\u001b[49m \u001b[38;5;28;01mas\u001b[39;00m process:\n\u001b[1;32m    504\u001b[0m     \u001b[38;5;28;01mtry\u001b[39;00m:\n\u001b[1;32m    505\u001b[0m         stdout, stderr \u001b[38;5;241m=\u001b[39m process\u001b[38;5;241m.\u001b[39mcommunicate(\u001b[38;5;28minput\u001b[39m, timeout\u001b[38;5;241m=\u001b[39mtimeout)\n",
      "File \u001b[0;32m/srv/conda/envs/notebook/lib/python3.10/subprocess.py:971\u001b[0m, in \u001b[0;36mPopen.__init__\u001b[0;34m(self, args, bufsize, executable, stdin, stdout, stderr, preexec_fn, close_fds, shell, cwd, env, universal_newlines, startupinfo, creationflags, restore_signals, start_new_session, pass_fds, user, group, extra_groups, encoding, errors, text, umask, pipesize)\u001b[0m\n\u001b[1;32m    967\u001b[0m         \u001b[38;5;28;01mif\u001b[39;00m \u001b[38;5;28mself\u001b[39m\u001b[38;5;241m.\u001b[39mtext_mode:\n\u001b[1;32m    968\u001b[0m             \u001b[38;5;28mself\u001b[39m\u001b[38;5;241m.\u001b[39mstderr \u001b[38;5;241m=\u001b[39m io\u001b[38;5;241m.\u001b[39mTextIOWrapper(\u001b[38;5;28mself\u001b[39m\u001b[38;5;241m.\u001b[39mstderr,\n\u001b[1;32m    969\u001b[0m                     encoding\u001b[38;5;241m=\u001b[39mencoding, errors\u001b[38;5;241m=\u001b[39merrors)\n\u001b[0;32m--> 971\u001b[0m     \u001b[38;5;28;43mself\u001b[39;49m\u001b[38;5;241;43m.\u001b[39;49m\u001b[43m_execute_child\u001b[49m\u001b[43m(\u001b[49m\u001b[43margs\u001b[49m\u001b[43m,\u001b[49m\u001b[43m \u001b[49m\u001b[43mexecutable\u001b[49m\u001b[43m,\u001b[49m\u001b[43m \u001b[49m\u001b[43mpreexec_fn\u001b[49m\u001b[43m,\u001b[49m\u001b[43m \u001b[49m\u001b[43mclose_fds\u001b[49m\u001b[43m,\u001b[49m\n\u001b[1;32m    972\u001b[0m \u001b[43m                        \u001b[49m\u001b[43mpass_fds\u001b[49m\u001b[43m,\u001b[49m\u001b[43m \u001b[49m\u001b[43mcwd\u001b[49m\u001b[43m,\u001b[49m\u001b[43m \u001b[49m\u001b[43menv\u001b[49m\u001b[43m,\u001b[49m\n\u001b[1;32m    973\u001b[0m \u001b[43m                        \u001b[49m\u001b[43mstartupinfo\u001b[49m\u001b[43m,\u001b[49m\u001b[43m \u001b[49m\u001b[43mcreationflags\u001b[49m\u001b[43m,\u001b[49m\u001b[43m \u001b[49m\u001b[43mshell\u001b[49m\u001b[43m,\u001b[49m\n\u001b[1;32m    974\u001b[0m \u001b[43m                        \u001b[49m\u001b[43mp2cread\u001b[49m\u001b[43m,\u001b[49m\u001b[43m \u001b[49m\u001b[43mp2cwrite\u001b[49m\u001b[43m,\u001b[49m\n\u001b[1;32m    975\u001b[0m \u001b[43m                        \u001b[49m\u001b[43mc2pread\u001b[49m\u001b[43m,\u001b[49m\u001b[43m \u001b[49m\u001b[43mc2pwrite\u001b[49m\u001b[43m,\u001b[49m\n\u001b[1;32m    976\u001b[0m \u001b[43m                        \u001b[49m\u001b[43merrread\u001b[49m\u001b[43m,\u001b[49m\u001b[43m \u001b[49m\u001b[43merrwrite\u001b[49m\u001b[43m,\u001b[49m\n\u001b[1;32m    977\u001b[0m \u001b[43m                        \u001b[49m\u001b[43mrestore_signals\u001b[49m\u001b[43m,\u001b[49m\n\u001b[1;32m    978\u001b[0m \u001b[43m                        \u001b[49m\u001b[43mgid\u001b[49m\u001b[43m,\u001b[49m\u001b[43m \u001b[49m\u001b[43mgids\u001b[49m\u001b[43m,\u001b[49m\u001b[43m \u001b[49m\u001b[43muid\u001b[49m\u001b[43m,\u001b[49m\u001b[43m \u001b[49m\u001b[43mumask\u001b[49m\u001b[43m,\u001b[49m\n\u001b[1;32m    979\u001b[0m \u001b[43m                        \u001b[49m\u001b[43mstart_new_session\u001b[49m\u001b[43m)\u001b[49m\n\u001b[1;32m    980\u001b[0m \u001b[38;5;28;01mexcept\u001b[39;00m:\n\u001b[1;32m    981\u001b[0m     \u001b[38;5;66;03m# Cleanup if the child failed starting.\u001b[39;00m\n\u001b[1;32m    982\u001b[0m     \u001b[38;5;28;01mfor\u001b[39;00m f \u001b[38;5;129;01min\u001b[39;00m \u001b[38;5;28mfilter\u001b[39m(\u001b[38;5;28;01mNone\u001b[39;00m, (\u001b[38;5;28mself\u001b[39m\u001b[38;5;241m.\u001b[39mstdin, \u001b[38;5;28mself\u001b[39m\u001b[38;5;241m.\u001b[39mstdout, \u001b[38;5;28mself\u001b[39m\u001b[38;5;241m.\u001b[39mstderr)):\n",
      "File \u001b[0;32m/srv/conda/envs/notebook/lib/python3.10/subprocess.py:1847\u001b[0m, in \u001b[0;36mPopen._execute_child\u001b[0;34m(self, args, executable, preexec_fn, close_fds, pass_fds, cwd, env, startupinfo, creationflags, shell, p2cread, p2cwrite, c2pread, c2pwrite, errread, errwrite, restore_signals, gid, gids, uid, umask, start_new_session)\u001b[0m\n\u001b[1;32m   1845\u001b[0m     \u001b[38;5;28;01mif\u001b[39;00m errno_num \u001b[38;5;241m!=\u001b[39m \u001b[38;5;241m0\u001b[39m:\n\u001b[1;32m   1846\u001b[0m         err_msg \u001b[38;5;241m=\u001b[39m os\u001b[38;5;241m.\u001b[39mstrerror(errno_num)\n\u001b[0;32m-> 1847\u001b[0m     \u001b[38;5;28;01mraise\u001b[39;00m child_exception_type(errno_num, err_msg, err_filename)\n\u001b[1;32m   1848\u001b[0m \u001b[38;5;28;01mraise\u001b[39;00m child_exception_type(err_msg)\n",
      "\u001b[0;31mFileNotFoundError\u001b[0m: [Errno 2] No such file or directory: 'pangeo-forge-runner'"
     ]
    }
   ],
   "source": [
    "# from the integration tests of pangeo-forge-runner\n",
    "# https://github.com/pangeo-forge/pangeo-forge-runner/blob/main/tests/integration/test_dataflow_integration.py\n",
    "\n",
    "import subprocess\n",
    "import time\n",
    "import xarray as xr\n",
    "\n",
    "iid = \"CMIP6.ScenarioMIP.EC-Earth-Consortium.EC-Earth3.ssp585.r107i1p1f1.day.psl.gr.v20200412\"\n",
    "jobname = shorten_id(iid)\n",
    "target_store = f\"{target_bucket}/{iid}.zarr\"\n",
    "machine_type = \"e2-highmem-8\"\n",
    "cmd = [\n",
    "    \"pangeo-forge-runner\",\n",
    "    \"bake\",\n",
    "    \"--repo\",\n",
    "    repo,\n",
    "    \"--ref\",\n",
    "    ref,\n",
    "    \"--json\",\n",
    "    \"-f\",\n",
    "    f_name,\n",
    "    \"--Bake.recipe_id\",\n",
    "    iid,\n",
    "    \"--Bake.job_name\",\n",
    "    jobname,\n",
    "    \"--TargetStorage.root_path\",\n",
    "    f\"{target_bucket}\",\n",
    "    \"--DataflowBakery.machine_type\",\n",
    "    machine_type,\n",
    "]\n",
    "\n",
    "print(\"\\nSubmitting job...\")\n",
    "submit_proc = subprocess.run(cmd, capture_output=True)\n",
    "assert submit_proc.returncode == 0\n",
    "lastline = json.loads(submit_proc.stdout.decode().splitlines()[-1])\n",
    "assert lastline[\"status\"] == \"submitted\"\n",
    "job_id = lastline[\"job_id\"]\n",
    "job_name = lastline[\"job_name\"]\n",
    "print(f\"Job submitted with {job_id = }\")"
   ]
  },
  {
   "cell_type": "code",
   "execution_count": null,
   "id": "ee8215df-d815-4843-ad74-5aefeb2c53d9",
   "metadata": {},
   "outputs": [],
   "source": []
  },
  {
   "cell_type": "code",
   "execution_count": null,
   "id": "5658640b-44d5-47f9-aff9-0d47a1a225c8",
   "metadata": {},
   "outputs": [],
   "source": []
  },
  {
   "cell_type": "code",
   "execution_count": null,
   "id": "9ed51f65-433b-4afd-bb01-4ed033bec8af",
   "metadata": {},
   "outputs": [],
   "source": []
  },
  {
   "cell_type": "code",
   "execution_count": null,
   "id": "a65a2eca-70a8-42f9-9c09-ff0da7acaa75",
   "metadata": {},
   "outputs": [],
   "source": []
  },
  {
   "cell_type": "code",
   "execution_count": null,
   "id": "37caf752-e8e1-48f6-b873-cf296d9135c6",
   "metadata": {},
   "outputs": [],
   "source": [
    "# note the start time, because certain errors on dataflow manifest as long hangs,\n",
    "# and if that's the case, we'll want to bail out of this test manually, rather than\n",
    "# wait for the the job to officially fail.\n",
    "start = time.time()\n",
    "\n",
    "# 6 minutes seems like an average runtime for these jobs, but being optimistic\n",
    "# let's start by waiting 5 minutes\n",
    "print(f\"Waiting for 5 mins, starting at {start = }\")\n",
    "time.sleep(60 * 5)\n",
    "\n",
    "# okay, time to start checking if the job is done\n",
    "show_job = f\"gcloud dataflow jobs show {job_id} --format=json\".split()\n",
    "while True:\n",
    "    elapsed = time.time() - start\n",
    "    print(f\"Time {elapsed = }\")\n",
    "    if elapsed > 60 * 12:\n",
    "        # if 12 minutes have elapsed (twice the expected time to complete the job),\n",
    "        # we're going to assume the job is hanging, and call this test a failure.\n",
    "        # remember: we're sourcing data for this job from within GCS, so networking\n",
    "        # shouldn't delay things *too* much. if we eventually find that jobs may take\n",
    "        # more than 12 minutes and not be hanging, we can change this assumption.\n",
    "        pytest.fail(f\"Time {elapsed = } exceedes 12 minutes.\")\n",
    "\n",
    "    # check job state\n",
    "    state_proc = subprocess.run(show_job, capture_output=True)\n",
    "    assert state_proc.returncode == 0\n",
    "    state = json.loads(state_proc.stdout)[\"state\"]\n",
    "    print(f\"Current {state = }\")\n",
    "    if state == \"Done\":\n",
    "        # on Dataflow, \"Done\" means success\n",
    "        break\n",
    "    elif state == \"Running\":\n",
    "        # still running, let's give it another 30s then check again\n",
    "        time.sleep(30)\n",
    "    else:\n",
    "        # consider any other state a failure\n",
    "        pytest.fail(f\"{state = } is neither 'Done' nor 'Running'\")\n",
    "\n",
    "# open the generated dataset with xarray!\n",
    "gpcp = xr.open_dataset(\n",
    "    config[\"TargetStorage\"][\"root_path\"].format(job_name=job_name),\n",
    "    engine=\"zarr\",\n",
    ")\n",
    "\n",
    "assert (\n",
    "    gpcp.title\n",
    "    == \"Global Precipitation Climatatology Project (GPCP) Climate Data Record (CDR), Daily V1.3\"\n",
    ")\n",
    "# --prune prunes to two time steps by default, so we expect 2 items here\n",
    "assert len(gpcp.precip) == 2\n",
    "print(gpcp)"
   ]
  }
 ],
 "metadata": {
  "kernelspec": {
   "display_name": "Python 3 (ipykernel)",
   "language": "python",
   "name": "python3"
  },
  "language_info": {
   "codemirror_mode": {
    "name": "ipython",
    "version": 3
   },
   "file_extension": ".py",
   "mimetype": "text/x-python",
   "name": "python",
   "nbconvert_exporter": "python",
   "pygments_lexer": "ipython3",
   "version": "3.10.9"
  }
 },
 "nbformat": 4,
 "nbformat_minor": 5
}
