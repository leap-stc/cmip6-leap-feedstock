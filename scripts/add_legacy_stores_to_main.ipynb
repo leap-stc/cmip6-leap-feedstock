{
 "cells": [
  {
   "cell_type": "markdown",
   "id": "ccdb9729-3c8a-4ed1-8747-18bfe2eb39de",
   "metadata": {},
   "source": [
    "# Adding the legacy stores to the main BQ table\n",
    "\n",
    "- We have to make a few decisions here:\n",
    "    - Should I only add stores that pass the tests? This would enable us to rerun the non-qc stores and maybe some of them will now work\n",
    "    - For now Ill add all of them, so people have a way to beta test, but for the final version (once we have credits) we should do that. "
   ]
  },
  {
   "cell_type": "code",
   "execution_count": 1,
   "id": "431fd617-ab36-46ce-8a30-4e159614d590",
   "metadata": {},
   "outputs": [],
   "source": [
    "from leap_data_management_utils.cmip_utils import CMIPBQInterface"
   ]
  },
  {
   "cell_type": "code",
   "execution_count": 2,
   "id": "c1d4627d-80fd-4eee-8307-11c1b791d9bf",
   "metadata": {},
   "outputs": [],
   "source": [
    "leap_legacy_table_id = \"leap-pangeo.cmip6_pgf_ingestion.leap_legacy\"\n",
    "pangeo_legacy_table_id = \"leap-pangeo.cmip6_pgf_ingestion.pangeo_legacy\"\n",
    "main_table_id = \"leap-pangeo.testcmip6.cmip6_consolidated_manual_testing\"\n",
    "\n",
    "bq_leap_legacy = CMIPBQInterface(leap_legacy_table_id)\n",
    "bq_pangeo_legacy = CMIPBQInterface(pangeo_legacy_table_id)\n",
    "bq = CMIPBQInterface(main_table_id)"
   ]
  },
  {
   "cell_type": "code",
   "execution_count": 5,
   "id": "fad7f6de-d35d-413f-a431-0d3f309041e6",
   "metadata": {},
   "outputs": [],
   "source": [
    "def filter_and_add(source_bq: CMIPBQInterface, target_bq: CMIPBQInterface):\n",
    "    print(f\"Getting latest results from {source_bq.table_id}\")\n",
    "    df_source = source_bq.get_latest()\n",
    "    iids_source = df_source[\"instance_id\"].tolist()\n",
    "    print(f\"Finding iids already in {target_bq.table_id}\")\n",
    "    iids_in_target = target_bq.iid_list_exists(iids_source)\n",
    "    # filter those iids out (we assume they are more up to date)\n",
    "    df_source_filtered = df_source[~df_source.instance_id.isin(iids_in_target)]\n",
    "\n",
    "    # TODO: filter out the failed tests later\n",
    "    if len(df_source_filtered) > 0:\n",
    "        print(f\"Adding missing entries to {target_bq.table_id}\")\n",
    "        target_bq.insert_df(df_source_filtered)\n",
    "    return df_source_filtered"
   ]
  },
  {
   "cell_type": "code",
   "execution_count": 6,
   "id": "99c57718-1364-44da-9d52-dbfc0c3dbfdb",
   "metadata": {},
   "outputs": [
    {
     "name": "stdout",
     "output_type": "stream",
     "text": [
      "Inserted 0 new entries\n"
     ]
    }
   ],
   "source": [
    "df_inserted_from_leap = filter_and_add(bq_leap_legacy, bq)\n",
    "print(f\"Inserted {len(df_inserted_from_leap)} new entries\")"
   ]
  },
  {
   "cell_type": "code",
   "execution_count": 7,
   "id": "9547a671-cc74-482a-9da9-c6fd520cffd3",
   "metadata": {},
   "outputs": [
    {
     "name": "stdout",
     "output_type": "stream",
     "text": [
      "Found over 10k iids. Working in batches.\n"
     ]
    },
    {
     "data": {
      "application/vnd.jupyter.widget-view+json": {
       "model_id": "4e52fadafc2b4c0d9777b95f8a16e8ca",
       "version_major": 2,
       "version_minor": 0
      },
      "text/plain": [
       "  0%|          | 0/52 [00:00<?, ?it/s]"
      ]
     },
     "metadata": {},
     "output_type": "display_data"
    },
    {
     "name": "stdout",
     "output_type": "stream",
     "text": [
      "Found over 10k iid entries. Working in batches.\n"
     ]
    },
    {
     "data": {
      "application/vnd.jupyter.widget-view+json": {
       "model_id": "246fca07517f459ca2408bd8e7e1b67c",
       "version_major": 2,
       "version_minor": 0
      },
      "text/plain": [
       "  0%|          | 0/22 [00:00<?, ?it/s]"
      ]
     },
     "metadata": {},
     "output_type": "display_data"
    },
    {
     "name": "stdout",
     "output_type": "stream",
     "text": [
      "Inserted 214455 new entries\n"
     ]
    }
   ],
   "source": [
    "df_inserted_from_pangeo = filter_and_add(bq_pangeo_legacy, bq)\n",
    "print(f\"Inserted {len(df_inserted_from_pangeo)} new entries\")"
   ]
  },
  {
   "cell_type": "code",
   "execution_count": 8,
   "id": "c17ea83e-e003-4fae-8084-588434436b34",
   "metadata": {},
   "outputs": [],
   "source": [
    "df_all = bq.get_latest()"
   ]
  },
  {
   "cell_type": "code",
   "execution_count": 9,
   "id": "f2cd0cd4-0e66-41e7-a5e5-3611e162afae",
   "metadata": {},
   "outputs": [
    {
     "data": {
      "text/html": [
       "<div>\n",
       "<style scoped>\n",
       "    .dataframe tbody tr th:only-of-type {\n",
       "        vertical-align: middle;\n",
       "    }\n",
       "\n",
       "    .dataframe tbody tr th {\n",
       "        vertical-align: top;\n",
       "    }\n",
       "\n",
       "    .dataframe thead th {\n",
       "        text-align: right;\n",
       "    }\n",
       "</style>\n",
       "<table border=\"1\" class=\"dataframe\">\n",
       "  <thead>\n",
       "    <tr style=\"text-align: right;\">\n",
       "      <th></th>\n",
       "      <th>instance_id</th>\n",
       "      <th>store</th>\n",
       "      <th>timestamp</th>\n",
       "      <th>retracted</th>\n",
       "      <th>tests_passed</th>\n",
       "    </tr>\n",
       "  </thead>\n",
       "  <tbody>\n",
       "    <tr>\n",
       "      <th>0</th>\n",
       "      <td>CMIP6.AerChemMIP.MIROC.MIROC6.hist-piNTCF.r3i1...</td>\n",
       "      <td>gs://cmip6/CMIP6/AerChemMIP/MIROC/MIROC6/hist-...</td>\n",
       "      <td>2024-01-24 00:34:38.224384+00:00</td>\n",
       "      <td>True</td>\n",
       "      <td>True</td>\n",
       "    </tr>\n",
       "    <tr>\n",
       "      <th>1</th>\n",
       "      <td>CMIP6.AerChemMIP.MIROC.MIROC6.histSST.r1i1p1f1...</td>\n",
       "      <td>gs://cmip6/CMIP6/AerChemMIP/MIROC/MIROC6/histS...</td>\n",
       "      <td>2024-01-24 00:34:38.224384+00:00</td>\n",
       "      <td>True</td>\n",
       "      <td>True</td>\n",
       "    </tr>\n",
       "    <tr>\n",
       "      <th>2</th>\n",
       "      <td>CMIP6.AerChemMIP.MIROC.MIROC6.piClim-2xfire.r1...</td>\n",
       "      <td>gs://cmip6/CMIP6/AerChemMIP/MIROC/MIROC6/piCli...</td>\n",
       "      <td>2024-01-24 00:34:38.224384+00:00</td>\n",
       "      <td>True</td>\n",
       "      <td>True</td>\n",
       "    </tr>\n",
       "    <tr>\n",
       "      <th>3</th>\n",
       "      <td>CMIP6.AerChemMIP.MIROC.MIROC6.piClim-2xss.r1i1...</td>\n",
       "      <td>gs://cmip6/CMIP6/AerChemMIP/MIROC/MIROC6/piCli...</td>\n",
       "      <td>2024-01-24 00:34:38.224384+00:00</td>\n",
       "      <td>True</td>\n",
       "      <td>True</td>\n",
       "    </tr>\n",
       "    <tr>\n",
       "      <th>4</th>\n",
       "      <td>CMIP6.AerChemMIP.MIROC.MIROC6.piClim-NTCF.r1i1...</td>\n",
       "      <td>gs://cmip6/CMIP6/AerChemMIP/MIROC/MIROC6/piCli...</td>\n",
       "      <td>2024-01-24 00:34:38.224384+00:00</td>\n",
       "      <td>True</td>\n",
       "      <td>True</td>\n",
       "    </tr>\n",
       "    <tr>\n",
       "      <th>...</th>\n",
       "      <td>...</td>\n",
       "      <td>...</td>\n",
       "      <td>...</td>\n",
       "      <td>...</td>\n",
       "      <td>...</td>\n",
       "    </tr>\n",
       "    <tr>\n",
       "      <th>517891</th>\n",
       "      <td>CMIP6.ScenarioMIP.MOHC.UKESM1-0-LL.ssp585.r1i1...</td>\n",
       "      <td>gs://cmip6/CMIP6/ScenarioMIP/MOHC/UKESM1-0-LL/...</td>\n",
       "      <td>2024-01-22 22:49:57.680638+00:00</td>\n",
       "      <td>False</td>\n",
       "      <td>True</td>\n",
       "    </tr>\n",
       "    <tr>\n",
       "      <th>517892</th>\n",
       "      <td>CMIP6.ScenarioMIP.MOHC.UKESM1-0-LL.ssp585.r3i1...</td>\n",
       "      <td>gs://cmip6/CMIP6/ScenarioMIP/MOHC/UKESM1-0-LL/...</td>\n",
       "      <td>2024-01-22 22:49:57.680638+00:00</td>\n",
       "      <td>False</td>\n",
       "      <td>True</td>\n",
       "    </tr>\n",
       "    <tr>\n",
       "      <th>517893</th>\n",
       "      <td>CMIP6.ScenarioMIP.MOHC.UKESM1-0-LL.ssp585.r3i1...</td>\n",
       "      <td>gs://cmip6/CMIP6/ScenarioMIP/MOHC/UKESM1-0-LL/...</td>\n",
       "      <td>2024-01-22 22:49:57.680638+00:00</td>\n",
       "      <td>False</td>\n",
       "      <td>True</td>\n",
       "    </tr>\n",
       "    <tr>\n",
       "      <th>517894</th>\n",
       "      <td>CMIP6.ScenarioMIP.MOHC.UKESM1-0-LL.ssp585.r3i1...</td>\n",
       "      <td>gs://cmip6/CMIP6/ScenarioMIP/MOHC/UKESM1-0-LL/...</td>\n",
       "      <td>2024-01-22 22:49:57.680638+00:00</td>\n",
       "      <td>False</td>\n",
       "      <td>True</td>\n",
       "    </tr>\n",
       "    <tr>\n",
       "      <th>517895</th>\n",
       "      <td>CMIP6.ScenarioMIP.MOHC.UKESM1-0-LL.ssp585.r4i1...</td>\n",
       "      <td>gs://cmip6/CMIP6/ScenarioMIP/MOHC/UKESM1-0-LL/...</td>\n",
       "      <td>2024-01-22 22:49:57.680638+00:00</td>\n",
       "      <td>False</td>\n",
       "      <td>True</td>\n",
       "    </tr>\n",
       "  </tbody>\n",
       "</table>\n",
       "<p>517896 rows × 5 columns</p>\n",
       "</div>"
      ],
      "text/plain": [
       "                                              instance_id  \\\n",
       "0       CMIP6.AerChemMIP.MIROC.MIROC6.hist-piNTCF.r3i1...   \n",
       "1       CMIP6.AerChemMIP.MIROC.MIROC6.histSST.r1i1p1f1...   \n",
       "2       CMIP6.AerChemMIP.MIROC.MIROC6.piClim-2xfire.r1...   \n",
       "3       CMIP6.AerChemMIP.MIROC.MIROC6.piClim-2xss.r1i1...   \n",
       "4       CMIP6.AerChemMIP.MIROC.MIROC6.piClim-NTCF.r1i1...   \n",
       "...                                                   ...   \n",
       "517891  CMIP6.ScenarioMIP.MOHC.UKESM1-0-LL.ssp585.r1i1...   \n",
       "517892  CMIP6.ScenarioMIP.MOHC.UKESM1-0-LL.ssp585.r3i1...   \n",
       "517893  CMIP6.ScenarioMIP.MOHC.UKESM1-0-LL.ssp585.r3i1...   \n",
       "517894  CMIP6.ScenarioMIP.MOHC.UKESM1-0-LL.ssp585.r3i1...   \n",
       "517895  CMIP6.ScenarioMIP.MOHC.UKESM1-0-LL.ssp585.r4i1...   \n",
       "\n",
       "                                                    store  \\\n",
       "0       gs://cmip6/CMIP6/AerChemMIP/MIROC/MIROC6/hist-...   \n",
       "1       gs://cmip6/CMIP6/AerChemMIP/MIROC/MIROC6/histS...   \n",
       "2       gs://cmip6/CMIP6/AerChemMIP/MIROC/MIROC6/piCli...   \n",
       "3       gs://cmip6/CMIP6/AerChemMIP/MIROC/MIROC6/piCli...   \n",
       "4       gs://cmip6/CMIP6/AerChemMIP/MIROC/MIROC6/piCli...   \n",
       "...                                                   ...   \n",
       "517891  gs://cmip6/CMIP6/ScenarioMIP/MOHC/UKESM1-0-LL/...   \n",
       "517892  gs://cmip6/CMIP6/ScenarioMIP/MOHC/UKESM1-0-LL/...   \n",
       "517893  gs://cmip6/CMIP6/ScenarioMIP/MOHC/UKESM1-0-LL/...   \n",
       "517894  gs://cmip6/CMIP6/ScenarioMIP/MOHC/UKESM1-0-LL/...   \n",
       "517895  gs://cmip6/CMIP6/ScenarioMIP/MOHC/UKESM1-0-LL/...   \n",
       "\n",
       "                              timestamp  retracted  tests_passed  \n",
       "0      2024-01-24 00:34:38.224384+00:00       True          True  \n",
       "1      2024-01-24 00:34:38.224384+00:00       True          True  \n",
       "2      2024-01-24 00:34:38.224384+00:00       True          True  \n",
       "3      2024-01-24 00:34:38.224384+00:00       True          True  \n",
       "4      2024-01-24 00:34:38.224384+00:00       True          True  \n",
       "...                                 ...        ...           ...  \n",
       "517891 2024-01-22 22:49:57.680638+00:00      False          True  \n",
       "517892 2024-01-22 22:49:57.680638+00:00      False          True  \n",
       "517893 2024-01-22 22:49:57.680638+00:00      False          True  \n",
       "517894 2024-01-22 22:49:57.680638+00:00      False          True  \n",
       "517895 2024-01-22 22:49:57.680638+00:00      False          True  \n",
       "\n",
       "[517896 rows x 5 columns]"
      ]
     },
     "execution_count": 9,
     "metadata": {},
     "output_type": "execute_result"
    }
   ],
   "source": [
    "df_all"
   ]
  },
  {
   "cell_type": "code",
   "execution_count": null,
   "id": "cec6198b-8f36-44a0-8725-142f42a639b7",
   "metadata": {},
   "outputs": [],
   "source": []
  }
 ],
 "metadata": {
  "kernelspec": {
   "display_name": "Python 3 (ipykernel)",
   "language": "python",
   "name": "python3"
  },
  "language_info": {
   "codemirror_mode": {
    "name": "ipython",
    "version": 3
   },
   "file_extension": ".py",
   "mimetype": "text/x-python",
   "name": "python",
   "nbconvert_exporter": "python",
   "pygments_lexer": "ipython3",
   "version": "3.10.13"
  }
 },
 "nbformat": 4,
 "nbformat_minor": 5
}
