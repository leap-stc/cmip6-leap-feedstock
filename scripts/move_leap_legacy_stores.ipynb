{
 "cells": [
  {
   "cell_type": "markdown",
   "id": "a1c85bed-06f2-450b-ad5e-3b3bb7f60e72",
   "metadata": {},
   "source": [
    "# Moving all the 'good' LEAP stores to the public bucket\n",
    "\n",
    "We should log these somewhere and then enable ingestion later (just like with the legacy stores)"
   ]
  },
  {
   "cell_type": "code",
   "execution_count": 1,
   "id": "db25f294-5be2-4d7c-a36b-4e24607793d3",
   "metadata": {},
   "outputs": [],
   "source": [
    "from leap_data_management_utils.cmip_utils import CMIPBQInterface, IIDEntry\n",
    "from leap_data_management_utils.cmip_testing import test_all\n",
    "\n",
    "import os\n",
    "import json\n",
    "import gcsfs\n",
    "import zarr\n",
    "from tqdm.auto import tqdm"
   ]
  },
  {
   "cell_type": "code",
   "execution_count": 2,
   "id": "455f79ca-af95-4c33-83e7-a96faa227ec9",
   "metadata": {},
   "outputs": [],
   "source": [
    "table_id = \"leap-pangeo.testcmip6.cmip6_feedstock_test2\"\n",
    "bq = CMIPBQInterface(table_id)\n",
    "df_legacy = bq.get_latest()\n",
    "\n",
    "# log all moves in a separate bigquery table\n",
    "table_id = \"leap-pangeo.cmip6_pgf_ingestion.leap_legacy\"\n",
    "bq_legacy = CMIPBQInterface(table_id)"
   ]
  },
  {
   "cell_type": "code",
   "execution_count": 3,
   "id": "a17d8c5e-9be6-40a5-93b8-ec39991931bb",
   "metadata": {},
   "outputs": [],
   "source": [
    "# test that I can actually copy things from in here (cant, need to authenticate):\n",
    "# This might disspear (its in some 1Password secured folder)\n",
    "# TODO refactor this to the hub?\n",
    "key_file = \"/private/var/folders/m2/vwrjf3zx1bvdbhfkw7bxpz7r0000gn/T/com.agilebits.onepassword7/com.agilebits.Attachments.noindex/ipigjxgmqrevlaplfwomu4sva4/leap-pangeo-93546a72d2da.json\"\n",
    "\n",
    "with open(key_file) as f:\n",
    "    token = json.load(f)\n",
    "    fs = gcsfs.GCSFileSystem(token=token)"
   ]
  },
  {
   "cell_type": "code",
   "execution_count": 5,
   "id": "517e6e90-2bf7-4a1a-9f69-0e884d6f9b18",
   "metadata": {},
   "outputs": [
    {
     "data": {
      "application/vnd.jupyter.widget-view+json": {
       "model_id": "13c0555628c34c9daed4790bec3517ed",
       "version_major": 2,
       "version_minor": 0
      },
      "text/plain": [
       "  0%|          | 0/3411 [00:00<?, ?it/s]"
      ]
     },
     "metadata": {},
     "output_type": "display_data"
    },
    {
     "name": "stderr",
     "output_type": "stream",
     "text": [
      "\n",
      "KeyboardInterrupt\n",
      "\n"
     ]
    }
   ],
   "source": [
    "for idx, row in tqdm(df_legacy.iterrows(), total=len(df_legacy)):\n",
    "    iid = row.instance_id\n",
    "    source = \"gs://\" + row.store\n",
    "    target_prefix = \"gs://cmip6/CMIP6_LEAP_legacy\"\n",
    "    target = os.path.join(target_prefix, *source.split(\"/\")[-2:])\n",
    "    # check if iid is already in the target bq\n",
    "    if not bq_legacy.iid_exists(iid):\n",
    "        print(f\"Testing {iid=}\")\n",
    "        try:\n",
    "            test_all(store=zarr.storage.FSStore(source, fs=fs), iid=iid, verbose=False)\n",
    "            tests_passed = True\n",
    "            print(\"Test PASSED ✅\")\n",
    "        except:\n",
    "            tests_passed = False\n",
    "            print(\"Test FAILED ❌\")\n",
    "        iid_entry = IIDEntry(\n",
    "            iid=iid, store=target, retracted=False, tests_passed=tests_passed\n",
    "        )\n",
    "        # print(f\"Copy {iid=} \\nfrom \\n{source=} \\nto \\n{target=}\")\n",
    "        fs.cp(source, target, recursive=True)\n",
    "        bq_legacy.insert_iid(iid_entry)"
   ]
  },
  {
   "cell_type": "code",
   "execution_count": null,
   "id": "020585ae-1b0d-47e5-8ca9-28ad1c37f97a",
   "metadata": {},
   "outputs": [],
   "source": []
  },
  {
   "cell_type": "code",
   "execution_count": null,
   "id": "731b9ca7-31d4-46a8-bc60-9c821e23f119",
   "metadata": {},
   "outputs": [],
   "source": []
  }
 ],
 "metadata": {
  "kernelspec": {
   "display_name": "Python 3 (ipykernel)",
   "language": "python",
   "name": "python3"
  },
  "language_info": {
   "codemirror_mode": {
    "name": "ipython",
    "version": 3
   },
   "file_extension": ".py",
   "mimetype": "text/x-python",
   "name": "python",
   "nbconvert_exporter": "python",
   "pygments_lexer": "ipython3",
   "version": "3.10.13"
  }
 },
 "nbformat": 4,
 "nbformat_minor": 5
}
